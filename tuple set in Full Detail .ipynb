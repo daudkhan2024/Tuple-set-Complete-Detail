{
 "cells": [
  {
   "cell_type": "markdown",
   "id": "7393f3bd",
   "metadata": {},
   "source": [
    "#### tuple"
   ]
  },
  {
   "cell_type": "code",
   "execution_count": 1,
   "id": "321b82fc",
   "metadata": {},
   "outputs": [],
   "source": [
    "t = ()"
   ]
  },
  {
   "cell_type": "code",
   "execution_count": 2,
   "id": "bac0d9c3",
   "metadata": {},
   "outputs": [
    {
     "data": {
      "text/plain": [
       "tuple"
      ]
     },
     "execution_count": 2,
     "metadata": {},
     "output_type": "execute_result"
    }
   ],
   "source": [
    "type(t)"
   ]
  },
  {
   "cell_type": "code",
   "execution_count": 3,
   "id": "e9945d27",
   "metadata": {},
   "outputs": [],
   "source": [
    "l = []"
   ]
  },
  {
   "cell_type": "code",
   "execution_count": 4,
   "id": "d3727f1c",
   "metadata": {},
   "outputs": [
    {
     "data": {
      "text/plain": [
       "list"
      ]
     },
     "execution_count": 4,
     "metadata": {},
     "output_type": "execute_result"
    }
   ],
   "source": [
    "type(l)"
   ]
  },
  {
   "cell_type": "code",
   "execution_count": 5,
   "id": "240c6dfe",
   "metadata": {},
   "outputs": [],
   "source": [
    "t1 = (324,343,2,\"khan\",45.445)"
   ]
  },
  {
   "cell_type": "code",
   "execution_count": 6,
   "id": "149337ed",
   "metadata": {},
   "outputs": [
    {
     "data": {
      "text/plain": [
       "(324, 343, 2, 'khan', 45.445)"
      ]
     },
     "execution_count": 6,
     "metadata": {},
     "output_type": "execute_result"
    }
   ],
   "source": [
    "t1"
   ]
  },
  {
   "cell_type": "code",
   "execution_count": 7,
   "id": "9771eb98",
   "metadata": {},
   "outputs": [
    {
     "data": {
      "text/plain": [
       "tuple"
      ]
     },
     "execution_count": 7,
     "metadata": {},
     "output_type": "execute_result"
    }
   ],
   "source": [
    "type(t1)"
   ]
  },
  {
   "cell_type": "code",
   "execution_count": 8,
   "id": "24d0caa9",
   "metadata": {},
   "outputs": [
    {
     "data": {
      "text/plain": [
       "343"
      ]
     },
     "execution_count": 8,
     "metadata": {},
     "output_type": "execute_result"
    }
   ],
   "source": [
    "t1[1] #we can parse thought tuple"
   ]
  },
  {
   "cell_type": "code",
   "execution_count": 9,
   "id": "aac9c094",
   "metadata": {},
   "outputs": [
    {
     "data": {
      "text/plain": [
       "45.445"
      ]
     },
     "execution_count": 9,
     "metadata": {},
     "output_type": "execute_result"
    }
   ],
   "source": [
    "t1[-1]"
   ]
  },
  {
   "cell_type": "code",
   "execution_count": 10,
   "id": "4e1559e6",
   "metadata": {},
   "outputs": [
    {
     "data": {
      "text/plain": [
       "(324, 343, 2, 'khan')"
      ]
     },
     "execution_count": 10,
     "metadata": {},
     "output_type": "execute_result"
    }
   ],
   "source": [
    "t1[:-1]"
   ]
  },
  {
   "cell_type": "code",
   "execution_count": 11,
   "id": "effbfe04",
   "metadata": {},
   "outputs": [
    {
     "data": {
      "text/plain": [
       "(324, 343, 2, 'khan', 45.445)"
      ]
     },
     "execution_count": 11,
     "metadata": {},
     "output_type": "execute_result"
    }
   ],
   "source": [
    "t1"
   ]
  },
  {
   "cell_type": "code",
   "execution_count": 12,
   "id": "c783dc89",
   "metadata": {},
   "outputs": [
    {
     "data": {
      "text/plain": [
       "(45.445, 'khan', 2, 343, 324)"
      ]
     },
     "execution_count": 12,
     "metadata": {},
     "output_type": "execute_result"
    }
   ],
   "source": [
    "t1[::-1]"
   ]
  },
  {
   "cell_type": "code",
   "execution_count": 13,
   "id": "90c458ba",
   "metadata": {},
   "outputs": [],
   "source": [
    "# not much diffreneces between tuple and lsit inform of getting data or resersing it"
   ]
  },
  {
   "cell_type": "code",
   "execution_count": 14,
   "id": "0150841d",
   "metadata": {},
   "outputs": [],
   "source": [
    "l= [23234,\"khan\",34.3,True]"
   ]
  },
  {
   "cell_type": "code",
   "execution_count": 15,
   "id": "79266ea2",
   "metadata": {},
   "outputs": [
    {
     "data": {
      "text/plain": [
       "23234"
      ]
     },
     "execution_count": 15,
     "metadata": {},
     "output_type": "execute_result"
    }
   ],
   "source": [
    "l[0]"
   ]
  },
  {
   "cell_type": "code",
   "execution_count": 16,
   "id": "9dfda116",
   "metadata": {},
   "outputs": [],
   "source": [
    "l[0] = \"shayan\" #index wise i can change it in list\n",
    "#list is mutable"
   ]
  },
  {
   "cell_type": "code",
   "execution_count": 17,
   "id": "0efc52d0",
   "metadata": {},
   "outputs": [
    {
     "data": {
      "text/plain": [
       "['shayan', 'khan', 34.3, True]"
      ]
     },
     "execution_count": 17,
     "metadata": {},
     "output_type": "execute_result"
    }
   ],
   "source": [
    "l"
   ]
  },
  {
   "cell_type": "code",
   "execution_count": 18,
   "id": "9e7715f4",
   "metadata": {},
   "outputs": [
    {
     "data": {
      "text/plain": [
       "('khan', 232, 3.4, False)"
      ]
     },
     "execution_count": 18,
     "metadata": {},
     "output_type": "execute_result"
    }
   ],
   "source": [
    "t2 = (\"khan\",232,3.4,False)\n",
    "t2"
   ]
  },
  {
   "cell_type": "code",
   "execution_count": 19,
   "id": "d17b1842",
   "metadata": {},
   "outputs": [
    {
     "data": {
      "text/plain": [
       "'khan'"
      ]
     },
     "execution_count": 19,
     "metadata": {},
     "output_type": "execute_result"
    }
   ],
   "source": [
    "t2[0]"
   ]
  },
  {
   "cell_type": "code",
   "execution_count": 20,
   "id": "39b174a6",
   "metadata": {},
   "outputs": [
    {
     "ename": "TypeError",
     "evalue": "'tuple' object does not support item assignment",
     "output_type": "error",
     "traceback": [
      "\u001b[0;31m---------------------------------------------------------------------------\u001b[0m",
      "\u001b[0;31mTypeError\u001b[0m                                 Traceback (most recent call last)",
      "Input \u001b[0;32mIn [20]\u001b[0m, in \u001b[0;36m<cell line: 1>\u001b[0;34m()\u001b[0m\n\u001b[0;32m----> 1\u001b[0m t2[\u001b[38;5;241m0\u001b[39m] \u001b[38;5;241m=\u001b[39m \u001b[38;5;124m\"\u001b[39m\u001b[38;5;124mshayan\u001b[39m\u001b[38;5;124m\"\u001b[39m\n",
      "\u001b[0;31mTypeError\u001b[0m: 'tuple' object does not support item assignment"
     ]
    }
   ],
   "source": [
    "t2[0] = \"shayan\" # it mean tuple are immutable i can not change "
   ]
  },
  {
   "cell_type": "code",
   "execution_count": 21,
   "id": "ce46b302",
   "metadata": {},
   "outputs": [
    {
     "data": {
      "text/plain": [
       "(324, 343, 2, 'khan', 45.445)"
      ]
     },
     "execution_count": 21,
     "metadata": {},
     "output_type": "execute_result"
    }
   ],
   "source": [
    "t1"
   ]
  },
  {
   "cell_type": "code",
   "execution_count": 22,
   "id": "fc582f50",
   "metadata": {},
   "outputs": [
    {
     "data": {
      "text/plain": [
       "('khan', 232, 3.4, False)"
      ]
     },
     "execution_count": 22,
     "metadata": {},
     "output_type": "execute_result"
    }
   ],
   "source": [
    "t2"
   ]
  },
  {
   "cell_type": "code",
   "execution_count": 23,
   "id": "14acffed",
   "metadata": {},
   "outputs": [
    {
     "data": {
      "text/plain": [
       "(324, 343, 2, 'khan', 45.445, 'khan', 232, 3.4, False)"
      ]
     },
     "execution_count": 23,
     "metadata": {},
     "output_type": "execute_result"
    }
   ],
   "source": [
    "t1+t2 # so we see tuple can do append but the location will be different not same"
   ]
  },
  {
   "cell_type": "code",
   "execution_count": 24,
   "id": "5b953bc0",
   "metadata": {},
   "outputs": [
    {
     "data": {
      "text/plain": [
       "(324, 343, 2, 'khan', 45.445, 324, 343, 2, 'khan', 45.445)"
      ]
     },
     "execution_count": 24,
     "metadata": {},
     "output_type": "execute_result"
    }
   ],
   "source": [
    "t1 * 2"
   ]
  },
  {
   "cell_type": "code",
   "execution_count": 25,
   "id": "fa4167f8",
   "metadata": {},
   "outputs": [
    {
     "data": {
      "text/plain": [
       "(324, 343, 2, 'khan', 45.445)"
      ]
     },
     "execution_count": 25,
     "metadata": {},
     "output_type": "execute_result"
    }
   ],
   "source": [
    "t1"
   ]
  },
  {
   "cell_type": "code",
   "execution_count": 26,
   "id": "cb78804a",
   "metadata": {},
   "outputs": [
    {
     "data": {
      "text/plain": [
       "False"
      ]
     },
     "execution_count": 26,
     "metadata": {},
     "output_type": "execute_result"
    }
   ],
   "source": [
    "323 in t1"
   ]
  },
  {
   "cell_type": "code",
   "execution_count": 27,
   "id": "5ed3b850",
   "metadata": {},
   "outputs": [
    {
     "data": {
      "text/plain": [
       "True"
      ]
     },
     "execution_count": 27,
     "metadata": {},
     "output_type": "execute_result"
    }
   ],
   "source": [
    "324 in t1"
   ]
  },
  {
   "cell_type": "code",
   "execution_count": 28,
   "id": "46b39b3f",
   "metadata": {},
   "outputs": [
    {
     "data": {
      "text/plain": [
       "False"
      ]
     },
     "execution_count": 28,
     "metadata": {},
     "output_type": "execute_result"
    }
   ],
   "source": [
    "33 in t2"
   ]
  },
  {
   "cell_type": "code",
   "execution_count": 29,
   "id": "e94c7574",
   "metadata": {},
   "outputs": [
    {
     "ename": "TypeError",
     "evalue": "'>' not supported between instances of 'str' and 'int'",
     "output_type": "error",
     "traceback": [
      "\u001b[0;31m---------------------------------------------------------------------------\u001b[0m",
      "\u001b[0;31mTypeError\u001b[0m                                 Traceback (most recent call last)",
      "Input \u001b[0;32mIn [29]\u001b[0m, in \u001b[0;36m<cell line: 1>\u001b[0;34m()\u001b[0m\n\u001b[0;32m----> 1\u001b[0m \u001b[38;5;28;43mmax\u001b[39;49m\u001b[43m(\u001b[49m\u001b[43mt1\u001b[49m\u001b[43m)\u001b[49m\n",
      "\u001b[0;31mTypeError\u001b[0m: '>' not supported between instances of 'str' and 'int'"
     ]
    }
   ],
   "source": [
    "max(t1)"
   ]
  },
  {
   "cell_type": "code",
   "execution_count": 30,
   "id": "61e907a7",
   "metadata": {},
   "outputs": [
    {
     "data": {
      "text/plain": [
       "65676"
      ]
     },
     "execution_count": 30,
     "metadata": {},
     "output_type": "execute_result"
    }
   ],
   "source": [
    "t3 = (23,454,65676,7)\n",
    "max(t3)   # it mean only numerical data it can work"
   ]
  },
  {
   "cell_type": "code",
   "execution_count": 31,
   "id": "20382d6d",
   "metadata": {},
   "outputs": [
    {
     "data": {
      "text/plain": [
       "'shayan'"
      ]
     },
     "execution_count": 31,
     "metadata": {},
     "output_type": "execute_result"
    }
   ],
   "source": [
    "t4 = (\"khan\",\"shayan\",\"berlin\")\n",
    "max(t4) # it mean it work only if all are strings\n"
   ]
  },
  {
   "cell_type": "code",
   "execution_count": 32,
   "id": "adcacd15",
   "metadata": {},
   "outputs": [
    {
     "data": {
      "text/plain": [
       "(324, 343, 2, 'khan', 45.445)"
      ]
     },
     "execution_count": 32,
     "metadata": {},
     "output_type": "execute_result"
    }
   ],
   "source": [
    "t1"
   ]
  },
  {
   "cell_type": "code",
   "execution_count": 33,
   "id": "cb7d3013",
   "metadata": {},
   "outputs": [
    {
     "data": {
      "text/plain": [
       "1"
      ]
     },
     "execution_count": 33,
     "metadata": {},
     "output_type": "execute_result"
    }
   ],
   "source": [
    "t1.count(2)  # in tuple only when we press tab can get two built in functions"
   ]
  },
  {
   "cell_type": "code",
   "execution_count": 34,
   "id": "c3daf015",
   "metadata": {},
   "outputs": [
    {
     "data": {
      "text/plain": [
       "2"
      ]
     },
     "execution_count": 34,
     "metadata": {},
     "output_type": "execute_result"
    }
   ],
   "source": [
    "t1.index(2) # it will only give index of first element not the repeated"
   ]
  },
  {
   "cell_type": "code",
   "execution_count": 35,
   "id": "7d635892",
   "metadata": {},
   "outputs": [
    {
     "ename": "TypeError",
     "evalue": "'<' not supported between instances of 'str' and 'int'",
     "output_type": "error",
     "traceback": [
      "\u001b[0;31m---------------------------------------------------------------------------\u001b[0m",
      "\u001b[0;31mTypeError\u001b[0m                                 Traceback (most recent call last)",
      "Input \u001b[0;32mIn [35]\u001b[0m, in \u001b[0;36m<cell line: 1>\u001b[0;34m()\u001b[0m\n\u001b[0;32m----> 1\u001b[0m \u001b[38;5;28;43mmin\u001b[39;49m\u001b[43m(\u001b[49m\u001b[43mt1\u001b[49m\u001b[43m)\u001b[49m\n",
      "\u001b[0;31mTypeError\u001b[0m: '<' not supported between instances of 'str' and 'int'"
     ]
    }
   ],
   "source": [
    "min(t1)# it will not do comparision between int and strings"
   ]
  },
  {
   "cell_type": "code",
   "execution_count": 36,
   "id": "c94ba3b9",
   "metadata": {},
   "outputs": [
    {
     "data": {
      "text/plain": [
       "7"
      ]
     },
     "execution_count": 36,
     "metadata": {},
     "output_type": "execute_result"
    }
   ],
   "source": [
    "min(t3)# as we saw it only can give comparision of only int"
   ]
  },
  {
   "cell_type": "code",
   "execution_count": 37,
   "id": "1cc1b52c",
   "metadata": {},
   "outputs": [
    {
     "data": {
      "text/plain": [
       "(324, 343, 2, 'khan', 45.445)"
      ]
     },
     "execution_count": 37,
     "metadata": {},
     "output_type": "execute_result"
    }
   ],
   "source": [
    "#converting tuple into list then we will append or do other operations\n",
    "t1"
   ]
  },
  {
   "cell_type": "code",
   "execution_count": 38,
   "id": "50390d98",
   "metadata": {},
   "outputs": [
    {
     "data": {
      "text/plain": [
       "(324, 343, 2, 'khan', 45.445, 34, 45)"
      ]
     },
     "execution_count": 38,
     "metadata": {},
     "output_type": "execute_result"
    }
   ],
   "source": [
    "t6 = (34,45)\n",
    "t1 + t6"
   ]
  },
  {
   "cell_type": "code",
   "execution_count": 39,
   "id": "22e3b6d9",
   "metadata": {},
   "outputs": [],
   "source": [
    "t7 = 100\n",
    "ls = list(t1)\n",
    "ls.insert(4,t7) #convert first tuple into list and then insert on specific index use .insert"
   ]
  },
  {
   "cell_type": "code",
   "execution_count": 40,
   "id": "d4fd88d7",
   "metadata": {},
   "outputs": [
    {
     "data": {
      "text/plain": [
       "[324, 343, 2, 'khan', 100, 45.445]"
      ]
     },
     "execution_count": 40,
     "metadata": {},
     "output_type": "execute_result"
    }
   ],
   "source": [
    "ls"
   ]
  },
  {
   "cell_type": "code",
   "execution_count": 41,
   "id": "96d9d8a4",
   "metadata": {},
   "outputs": [],
   "source": [
    "t9 = ((2,343),(343,4,5))"
   ]
  },
  {
   "cell_type": "code",
   "execution_count": 42,
   "id": "99d8631c",
   "metadata": {},
   "outputs": [
    {
     "data": {
      "text/plain": [
       "((2, 343), (343, 4, 5))"
      ]
     },
     "execution_count": 42,
     "metadata": {},
     "output_type": "execute_result"
    }
   ],
   "source": [
    "t9  # we can creat tuple inside tuple"
   ]
  },
  {
   "cell_type": "code",
   "execution_count": 43,
   "id": "4fc4c11e",
   "metadata": {},
   "outputs": [],
   "source": [
    "t9 = ((2,343),(343,4,5),[342,5,6]) # list into tuple inside"
   ]
  },
  {
   "cell_type": "code",
   "execution_count": 44,
   "id": "24f79817",
   "metadata": {},
   "outputs": [
    {
     "data": {
      "text/plain": [
       "342"
      ]
     },
     "execution_count": 44,
     "metadata": {},
     "output_type": "execute_result"
    }
   ],
   "source": [
    "t9[2][0]  # grabing or slicing data element in tuples"
   ]
  },
  {
   "cell_type": "code",
   "execution_count": 45,
   "id": "a7ea1343",
   "metadata": {},
   "outputs": [
    {
     "name": "stdout",
     "output_type": "stream",
     "text": [
      "(2, 343)\n",
      "(343, 4, 5)\n",
      "[342, 5, 6]\n"
     ]
    }
   ],
   "source": [
    "for i in t9:\n",
    "    print(i)"
   ]
  },
  {
   "cell_type": "code",
   "execution_count": 46,
   "id": "8051f61c",
   "metadata": {},
   "outputs": [
    {
     "name": "stdout",
     "output_type": "stream",
     "text": [
      "2\n",
      "343\n"
     ]
    }
   ],
   "source": [
    "for i in t9: #task get the first tuple data in tuple\n",
    "    if type(i) == tuple:\n",
    "        print(i[0])"
   ]
  },
  {
   "cell_type": "code",
   "execution_count": 47,
   "id": "e8728e66",
   "metadata": {},
   "outputs": [
    {
     "data": {
      "text/plain": [
       "(324, 343, 2, 'khan', 45.445)"
      ]
     },
     "execution_count": 47,
     "metadata": {},
     "output_type": "execute_result"
    }
   ],
   "source": [
    "t1"
   ]
  },
  {
   "cell_type": "code",
   "execution_count": 48,
   "id": "91dcc999",
   "metadata": {},
   "outputs": [
    {
     "data": {
      "text/plain": [
       "('khan', 232, 3.4, False)"
      ]
     },
     "execution_count": 48,
     "metadata": {},
     "output_type": "execute_result"
    }
   ],
   "source": [
    "t2"
   ]
  },
  {
   "cell_type": "code",
   "execution_count": 49,
   "id": "e0f23559",
   "metadata": {},
   "outputs": [
    {
     "name": "stdout",
     "output_type": "stream",
     "text": [
      "its not same\n"
     ]
    }
   ],
   "source": [
    "# task: if the lenght of both tuples are same or not t1 and t2\n",
    "if len(t1)==len(t2):\n",
    "    print(\"its same\")\n",
    "else:\n",
    "    print(\"its not same\")"
   ]
  },
  {
   "cell_type": "code",
   "execution_count": 50,
   "id": "d52696b3",
   "metadata": {},
   "outputs": [],
   "source": [
    "t= (234,43,True,\"khan\")"
   ]
  },
  {
   "cell_type": "code",
   "execution_count": 51,
   "id": "e6fd9fb6",
   "metadata": {},
   "outputs": [
    {
     "data": {
      "text/plain": [
       "(234, 43, True, 'khan')"
      ]
     },
     "execution_count": 51,
     "metadata": {},
     "output_type": "execute_result"
    }
   ],
   "source": [
    "t"
   ]
  },
  {
   "cell_type": "code",
   "execution_count": 52,
   "id": "83929800",
   "metadata": {},
   "outputs": [
    {
     "name": "stdout",
     "output_type": "stream",
     "text": [
      "enter ur data\n",
      "no its not avalible\n"
     ]
    }
   ],
   "source": [
    "t= (234,43,True,\"khan\")\n",
    "i = input(\"enter ur data\")\n",
    "\n",
    "if i in t:\n",
    "    print(\"its avalible\")\n",
    "else:\n",
    "    print(\"no its not avalible\")"
   ]
  },
  {
   "cell_type": "code",
   "execution_count": 53,
   "id": "245b69f6",
   "metadata": {},
   "outputs": [
    {
     "data": {
      "text/plain": [
       "(234, 43, True, 'khan')"
      ]
     },
     "execution_count": 53,
     "metadata": {},
     "output_type": "execute_result"
    }
   ],
   "source": [
    "t"
   ]
  },
  {
   "cell_type": "code",
   "execution_count": 54,
   "id": "c85d2151",
   "metadata": {},
   "outputs": [
    {
     "data": {
      "text/plain": [
       "['shayan', 'khan', 34.3, True]"
      ]
     },
     "execution_count": 54,
     "metadata": {},
     "output_type": "execute_result"
    }
   ],
   "source": [
    "l"
   ]
  },
  {
   "cell_type": "code",
   "execution_count": 55,
   "id": "be9dd506",
   "metadata": {},
   "outputs": [],
   "source": [
    "l2 = [23,34,5]\n",
    "del(l2) # it delete all the l2 list"
   ]
  },
  {
   "cell_type": "code",
   "execution_count": 56,
   "id": "b409d29a",
   "metadata": {},
   "outputs": [],
   "source": [
    "m=(2,3,4,5,\"khan\")"
   ]
  },
  {
   "cell_type": "code",
   "execution_count": 57,
   "id": "ab607c22",
   "metadata": {},
   "outputs": [],
   "source": [
    "del(m)# so tuple can be delete also"
   ]
  },
  {
   "cell_type": "markdown",
   "id": "40281c52",
   "metadata": {},
   "source": [
    "#### Set { } # it is a collection which will give u distinct element in collection not duplicates"
   ]
  },
  {
   "cell_type": "code",
   "execution_count": 58,
   "id": "8494fa5d",
   "metadata": {},
   "outputs": [],
   "source": [
    "x = set()"
   ]
  },
  {
   "cell_type": "code",
   "execution_count": 59,
   "id": "91318148",
   "metadata": {},
   "outputs": [
    {
     "data": {
      "text/plain": [
       "set"
      ]
     },
     "execution_count": 59,
     "metadata": {},
     "output_type": "execute_result"
    }
   ],
   "source": [
    "type(x)"
   ]
  },
  {
   "cell_type": "code",
   "execution_count": 60,
   "id": "04e951f4",
   "metadata": {},
   "outputs": [],
   "source": [
    "l = [22,22,34,34,\"khan\",\"shayan\",\"khan\",\"books\"]"
   ]
  },
  {
   "cell_type": "code",
   "execution_count": 61,
   "id": "93ab3973",
   "metadata": {},
   "outputs": [],
   "source": [
    "s = set(l)"
   ]
  },
  {
   "cell_type": "code",
   "execution_count": 62,
   "id": "d7efa560",
   "metadata": {},
   "outputs": [
    {
     "data": {
      "text/plain": [
       "{22, 34, 'books', 'khan', 'shayan'}"
      ]
     },
     "execution_count": 62,
     "metadata": {},
     "output_type": "execute_result"
    }
   ],
   "source": [
    "s"
   ]
  },
  {
   "cell_type": "code",
   "execution_count": 63,
   "id": "1625294f",
   "metadata": {},
   "outputs": [
    {
     "name": "stdout",
     "output_type": "stream",
     "text": [
      "khan\n",
      "34\n",
      "22\n",
      "shayan\n",
      "books\n"
     ]
    }
   ],
   "source": [
    "for i in s :\n",
    "    print(i)"
   ]
  },
  {
   "cell_type": "code",
   "execution_count": 64,
   "id": "230f1c91",
   "metadata": {},
   "outputs": [
    {
     "data": {
      "text/plain": [
       "True"
      ]
     },
     "execution_count": 64,
     "metadata": {},
     "output_type": "execute_result"
    }
   ],
   "source": [
    "34 in s"
   ]
  },
  {
   "cell_type": "code",
   "execution_count": 65,
   "id": "cfa8e869",
   "metadata": {},
   "outputs": [
    {
     "ename": "TypeError",
     "evalue": "'set' object is not subscriptable",
     "output_type": "error",
     "traceback": [
      "\u001b[0;31m---------------------------------------------------------------------------\u001b[0m",
      "\u001b[0;31mTypeError\u001b[0m                                 Traceback (most recent call last)",
      "Input \u001b[0;32mIn [65]\u001b[0m, in \u001b[0;36m<cell line: 1>\u001b[0;34m()\u001b[0m\n\u001b[0;32m----> 1\u001b[0m \u001b[43ms\u001b[49m\u001b[43m[\u001b[49m\u001b[38;5;241;43m0\u001b[39;49m\u001b[43m]\u001b[49m\n",
      "\u001b[0;31mTypeError\u001b[0m: 'set' object is not subscriptable"
     ]
    }
   ],
   "source": [
    "s[0]# indexing operation can not be perfom in set"
   ]
  },
  {
   "cell_type": "code",
   "execution_count": 66,
   "id": "38747517",
   "metadata": {},
   "outputs": [
    {
     "data": {
      "text/plain": [
       "{22, 34, 'books', 'khan', 'shayan'}"
      ]
     },
     "execution_count": 66,
     "metadata": {},
     "output_type": "execute_result"
    }
   ],
   "source": [
    "# set will not give you ordered data by its defination sometimes it \n",
    "#looks like but actually its not\n",
    "s"
   ]
  },
  {
   "cell_type": "code",
   "execution_count": 67,
   "id": "e0438354",
   "metadata": {},
   "outputs": [],
   "source": [
    "s = set()"
   ]
  },
  {
   "cell_type": "code",
   "execution_count": 68,
   "id": "971140f6",
   "metadata": {},
   "outputs": [
    {
     "data": {
      "text/plain": [
       "{44}"
      ]
     },
     "execution_count": 68,
     "metadata": {},
     "output_type": "execute_result"
    }
   ],
   "source": [
    "s.add(44)\n",
    "s"
   ]
  },
  {
   "cell_type": "code",
   "execution_count": 69,
   "id": "84140f78",
   "metadata": {},
   "outputs": [
    {
     "data": {
      "text/plain": [
       "{44, 'shayan'}"
      ]
     },
     "execution_count": 69,
     "metadata": {},
     "output_type": "execute_result"
    }
   ],
   "source": [
    "s.add(\"shayan\")\n",
    "s"
   ]
  },
  {
   "cell_type": "code",
   "execution_count": 70,
   "id": "7b62d868",
   "metadata": {},
   "outputs": [],
   "source": [
    "# set can not take nested list but it can only take unwrape list "
   ]
  },
  {
   "cell_type": "code",
   "execution_count": 71,
   "id": "3373dd60",
   "metadata": {},
   "outputs": [
    {
     "ename": "TypeError",
     "evalue": "unhashable type: 'list'",
     "output_type": "error",
     "traceback": [
      "\u001b[0;31m---------------------------------------------------------------------------\u001b[0m",
      "\u001b[0;31mTypeError\u001b[0m                                 Traceback (most recent call last)",
      "Input \u001b[0;32mIn [71]\u001b[0m, in \u001b[0;36m<cell line: 1>\u001b[0;34m()\u001b[0m\n\u001b[0;32m----> 1\u001b[0m \u001b[43ms\u001b[49m\u001b[38;5;241;43m.\u001b[39;49m\u001b[43madd\u001b[49m\u001b[43m(\u001b[49m\u001b[43m[\u001b[49m\u001b[38;5;241;43m23\u001b[39;49m\u001b[43m,\u001b[49m\u001b[38;5;241;43m34\u001b[39;49m\u001b[43m,\u001b[49m\u001b[38;5;241;43m5\u001b[39;49m\u001b[43m]\u001b[49m\u001b[43m)\u001b[49m\n",
      "\u001b[0;31mTypeError\u001b[0m: unhashable type: 'list'"
     ]
    }
   ],
   "source": [
    "s.add([23,34,5])"
   ]
  },
  {
   "cell_type": "code",
   "execution_count": 72,
   "id": "690c34ec",
   "metadata": {},
   "outputs": [],
   "source": [
    "s.remove(44)"
   ]
  },
  {
   "cell_type": "code",
   "execution_count": 73,
   "id": "7c37ec1d",
   "metadata": {},
   "outputs": [
    {
     "data": {
      "text/plain": [
       "{'shayan'}"
      ]
     },
     "execution_count": 73,
     "metadata": {},
     "output_type": "execute_result"
    }
   ],
   "source": [
    "s"
   ]
  },
  {
   "cell_type": "code",
   "execution_count": 74,
   "id": "db4d84b1",
   "metadata": {},
   "outputs": [
    {
     "data": {
      "text/plain": [
       "False"
      ]
     },
     "execution_count": 74,
     "metadata": {},
     "output_type": "execute_result"
    }
   ],
   "source": [
    "44 in s"
   ]
  },
  {
   "cell_type": "code",
   "execution_count": 75,
   "id": "cf319c51",
   "metadata": {},
   "outputs": [],
   "source": [
    "s.clear() # it clear all the data of set"
   ]
  },
  {
   "cell_type": "code",
   "execution_count": 76,
   "id": "ad4d443f",
   "metadata": {},
   "outputs": [
    {
     "data": {
      "text/plain": [
       "set()"
      ]
     },
     "execution_count": 76,
     "metadata": {},
     "output_type": "execute_result"
    }
   ],
   "source": [
    "s"
   ]
  },
  {
   "cell_type": "code",
   "execution_count": 77,
   "id": "46a82cf0",
   "metadata": {},
   "outputs": [],
   "source": [
    " s.add(\"khan\")"
   ]
  },
  {
   "cell_type": "code",
   "execution_count": 78,
   "id": "2e33fa3c",
   "metadata": {},
   "outputs": [],
   "source": [
    "s.add(23)"
   ]
  },
  {
   "cell_type": "code",
   "execution_count": 79,
   "id": "3782b84b",
   "metadata": {},
   "outputs": [],
   "source": [
    "s.add(3435)"
   ]
  },
  {
   "cell_type": "code",
   "execution_count": 80,
   "id": "3aafa587",
   "metadata": {},
   "outputs": [
    {
     "data": {
      "text/plain": [
       "{23, 3435, 'khan'}"
      ]
     },
     "execution_count": 80,
     "metadata": {},
     "output_type": "execute_result"
    }
   ],
   "source": [
    "s"
   ]
  },
  {
   "cell_type": "code",
   "execution_count": 81,
   "id": "628d4896",
   "metadata": {},
   "outputs": [],
   "source": [
    "s1 = set()"
   ]
  },
  {
   "cell_type": "code",
   "execution_count": 82,
   "id": "ce327a66",
   "metadata": {},
   "outputs": [
    {
     "ename": "TypeError",
     "evalue": "unsupported operand type(s) for +: 'set' and 'set'",
     "output_type": "error",
     "traceback": [
      "\u001b[0;31m---------------------------------------------------------------------------\u001b[0m",
      "\u001b[0;31mTypeError\u001b[0m                                 Traceback (most recent call last)",
      "Input \u001b[0;32mIn [82]\u001b[0m, in \u001b[0;36m<cell line: 1>\u001b[0;34m()\u001b[0m\n\u001b[0;32m----> 1\u001b[0m \u001b[43ms\u001b[49m\u001b[43m \u001b[49m\u001b[38;5;241;43m+\u001b[39;49m\u001b[43m \u001b[49m\u001b[43ms1\u001b[49m\n",
      "\u001b[0;31mTypeError\u001b[0m: unsupported operand type(s) for +: 'set' and 'set'"
     ]
    }
   ],
   "source": [
    "s + s1 #  * +   these operations are not allowed into set "
   ]
  },
  {
   "cell_type": "code",
   "execution_count": 83,
   "id": "cdb15081",
   "metadata": {},
   "outputs": [
    {
     "data": {
      "text/plain": [
       "{23, 3435, 'khan'}"
      ]
     },
     "execution_count": 83,
     "metadata": {},
     "output_type": "execute_result"
    }
   ],
   "source": [
    "s"
   ]
  },
  {
   "cell_type": "code",
   "execution_count": 84,
   "id": "7184ae1f",
   "metadata": {},
   "outputs": [],
   "source": [
    "l4 = list(s)"
   ]
  },
  {
   "cell_type": "code",
   "execution_count": 85,
   "id": "be2f34e2",
   "metadata": {},
   "outputs": [],
   "source": [
    "l4.append(77777)"
   ]
  },
  {
   "cell_type": "code",
   "execution_count": 86,
   "id": "9e63fba2",
   "metadata": {},
   "outputs": [
    {
     "data": {
      "text/plain": [
       "['khan', 3435, 23, 77777]"
      ]
     },
     "execution_count": 86,
     "metadata": {},
     "output_type": "execute_result"
    }
   ],
   "source": [
    "l4"
   ]
  },
  {
   "cell_type": "code",
   "execution_count": 87,
   "id": "49c2699f",
   "metadata": {},
   "outputs": [],
   "source": [
    "t4 = tuple()"
   ]
  },
  {
   "cell_type": "code",
   "execution_count": 88,
   "id": "1941c089",
   "metadata": {},
   "outputs": [
    {
     "data": {
      "text/plain": [
       "{234, 43, True, 'khan'}"
      ]
     },
     "execution_count": 88,
     "metadata": {},
     "output_type": "execute_result"
    }
   ],
   "source": [
    "set(t)"
   ]
  }
 ],
 "metadata": {
  "kernelspec": {
   "display_name": "Python 3 (ipykernel)",
   "language": "python",
   "name": "python3"
  },
  "language_info": {
   "codemirror_mode": {
    "name": "ipython",
    "version": 3
   },
   "file_extension": ".py",
   "mimetype": "text/x-python",
   "name": "python",
   "nbconvert_exporter": "python",
   "pygments_lexer": "ipython3",
   "version": "3.9.12"
  }
 },
 "nbformat": 4,
 "nbformat_minor": 5
}
